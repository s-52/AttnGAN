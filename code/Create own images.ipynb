{
 "cells": [
  {
   "cell_type": "code",
   "execution_count": 4,
   "metadata": {},
   "outputs": [
    {
     "name": "stdout",
     "output_type": "stream",
     "text": [
      "/home/dobby/AttnGAN/code\n"
     ]
    }
   ],
   "source": [
    "cd /home/dobby/AttnGAN/code"
   ]
  },
  {
   "cell_type": "code",
   "execution_count": 5,
   "metadata": {},
   "outputs": [
    {
     "data": {
      "text/plain": [
       "'/home/dobby/AttnGAN/code'"
      ]
     },
     "execution_count": 5,
     "metadata": {},
     "output_type": "execute_result"
    }
   ],
   "source": [
    "pwd"
   ]
  },
  {
   "cell_type": "code",
   "execution_count": 19,
   "metadata": {
    "scrolled": false
   },
   "outputs": [
    {
     "name": "stdout",
     "output_type": "stream",
     "text": [
      "/home/dobby/AttnGAN/code/miscc/config.py:103: YAMLLoadWarning: calling yaml.load() without Loader=... is deprecated, as the default Loader is unsafe. Please read https://msg.pyyaml.org/load for full details.\n",
      "  yaml_cfg = edict(yaml.load(f))\n",
      "Using config:\n",
      "{'B_VALIDATION': False,\n",
      " 'CONFIG_NAME': 'attn2',\n",
      " 'CUDA': True,\n",
      " 'DATASET_NAME': 'coco',\n",
      " 'DATA_DIR': '../data/coco',\n",
      " 'GAN': {'B_ATTENTION': True,\n",
      "         'B_DCGAN': False,\n",
      "         'CONDITION_DIM': 100,\n",
      "         'DF_DIM': 96,\n",
      "         'GF_DIM': 48,\n",
      "         'R_NUM': 3,\n",
      "         'Z_DIM': 100},\n",
      " 'GPU_ID': 0,\n",
      " 'RNN_TYPE': 'LSTM',\n",
      " 'TEXT': {'CAPTIONS_PER_IMAGE': 1, 'EMBEDDING_DIM': 256, 'WORDS_NUM': 20},\n",
      " 'TRAIN': {'BATCH_SIZE': 100,\n",
      "           'B_NET_D': False,\n",
      "           'DISCRIMINATOR_LR': 0.0002,\n",
      "           'ENCODER_LR': 0.0002,\n",
      "           'FLAG': False,\n",
      "           'GENERATOR_LR': 0.0002,\n",
      "           'MAX_EPOCH': 600,\n",
      "           'NET_E': '../DAMSMencoders/coco/text_encoder100.pth',\n",
      "           'NET_G': '../models/coco_AttnGAN2.pth',\n",
      "           'RNN_GRAD_CLIP': 0.25,\n",
      "           'SMOOTH': {'GAMMA1': 5.0,\n",
      "                      'GAMMA2': 5.0,\n",
      "                      'GAMMA3': 10.0,\n",
      "                      'LAMBDA': 1.0},\n",
      "           'SNAPSHOT_INTERVAL': 2000},\n",
      " 'TREE': {'BASE_SIZE': 64, 'BRANCH_NUM': 3},\n",
      " 'WORKERS': 1}\n",
      "Load filenames from: ../data/coco/train/filenames.pickle (82783)\n",
      "Load filenames from: ../data/coco/test/filenames.pickle (40470)\n",
      "Load from:  ../data/coco/captions.pickle\n",
      "Load from: interpolate_captions\n",
      "Load from: example_captions\n",
      "Load from: text/COCO_val2014_000000453722\n",
      "Load from: text/COCO_val2014_000000478338\n",
      "Load from: text/COCO_val2014_000000500464\n",
      "Load from: text/COCO_val2014_000000505542\n",
      "Load from: text/COCO_val2014_000000562943\n",
      "Load from: text/COCO_val2014_000000572178\n",
      "Load from: text/COCO_val2014_000000576612\n",
      "Load from: text/COCO_val2014_000000577310\n",
      "Load from: text/COCO_val2014_000000581781\n",
      "/home/dobby/.local/lib/python3.6/site-packages/torch/nn/modules/rnn.py:61: UserWarning: dropout option adds dropout after all but last recurrent layer, so non-zero dropout expects num_layers greater than 1, but got dropout=0.5 and num_layers=1\n",
      "  \"num_layers={}\".format(dropout, num_layers))\n",
      "Load text encoder from: ../DAMSMencoders/coco/text_encoder100.pth\n",
      "Load G from:  ../models/coco_AttnGAN2.pth\n",
      "/home/dobby/AttnGAN/code/miscc/utils.py:239: RuntimeWarning: invalid value encountered in true_divide\n",
      "  one_map = (one_map - minV) / (maxV - minV)\n",
      "Traceback (most recent call last):\n",
      "  File \"main.py\", line 146, in <module>\n",
      "    gen_example(dataset.wordtoix, algo)  # generate images for customized captions\n",
      "  File \"main.py\", line 83, in gen_example\n",
      "    algo.gen_example(data_dic)\n",
      "  File \"/home/dobby/AttnGAN/code/trainer.py\", line 492, in gen_example\n",
      "    fake_imgs, attention_maps, _, _ = netG(noise, sent_emb, words_embs, mask)\n",
      "  File \"/home/dobby/.local/lib/python3.6/site-packages/torch/nn/modules/module.py\", line 727, in _call_impl\n",
      "    result = self.forward(*input, **kwargs)\n",
      "  File \"/home/dobby/AttnGAN/code/model.py\", line 441, in forward\n",
      "    h_code1 = self.h_net1(z_code, c_code)\n",
      "  File \"/home/dobby/.local/lib/python3.6/site-packages/torch/nn/modules/module.py\", line 727, in _call_impl\n",
      "    result = self.forward(*input, **kwargs)\n",
      "  File \"/home/dobby/AttnGAN/code/model.py\", line 347, in forward\n",
      "    out_code = self.upsample2(out_code)\n",
      "  File \"/home/dobby/.local/lib/python3.6/site-packages/torch/nn/modules/module.py\", line 727, in _call_impl\n",
      "    result = self.forward(*input, **kwargs)\n",
      "  File \"/home/dobby/.local/lib/python3.6/site-packages/torch/nn/modules/container.py\", line 117, in forward\n",
      "    input = module(input)\n",
      "  File \"/home/dobby/.local/lib/python3.6/site-packages/torch/nn/modules/module.py\", line 727, in _call_impl\n",
      "    result = self.forward(*input, **kwargs)\n",
      "  File \"/home/dobby/AttnGAN/code/model.py\", line 34, in forward\n",
      "    x = self.interp(x, scale_factor=self.scale_factor, mode=self.mode, size=self.size)\n",
      "  File \"/home/dobby/.local/lib/python3.6/site-packages/torch/nn/functional.py\", line 3132, in interpolate\n",
      "    return torch._C._nn.upsample_nearest2d(input, output_size, scale_factors)\n",
      "RuntimeError: CUDA out of memory. Tried to allocate 4.92 GiB (GPU 0; 23.65 GiB total capacity; 17.70 GiB already allocated; 4.33 GiB free; 18.20 GiB reserved in total by PyTorch)\n"
     ]
    }
   ],
   "source": [
    "!python3 main.py --cfg cfg/eval_coco.yml --gpu 0"
   ]
  },
  {
   "cell_type": "code",
   "execution_count": 17,
   "metadata": {},
   "outputs": [
    {
     "name": "stdout",
     "output_type": "stream",
     "text": [
      "Wed Apr  7 10:13:55 2021       \n",
      "+-----------------------------------------------------------------------------+\n",
      "| NVIDIA-SMI 450.80.02    Driver Version: 450.80.02    CUDA Version: 11.0     |\n",
      "|-------------------------------+----------------------+----------------------+\n",
      "| GPU  Name        Persistence-M| Bus-Id        Disp.A | Volatile Uncorr. ECC |\n",
      "| Fan  Temp  Perf  Pwr:Usage/Cap|         Memory-Usage | GPU-Util  Compute M. |\n",
      "|                               |                      |               MIG M. |\n",
      "|===============================+======================+======================|\n",
      "|   0  Quadro RTX 6000     Off  | 00000000:D8:00.0 Off |                  Off |\n",
      "| 33%   33C    P0    34W / 260W |      0MiB / 24220MiB |      4%      Default |\n",
      "|                               |                      |                  N/A |\n",
      "+-------------------------------+----------------------+----------------------+\n",
      "                                                                               \n",
      "+-----------------------------------------------------------------------------+\n",
      "| Processes:                                                                  |\n",
      "|  GPU   GI   CI        PID   Type   Process name                  GPU Memory |\n",
      "|        ID   ID                                                   Usage      |\n",
      "|=============================================================================|\n",
      "|  No running processes found                                                 |\n",
      "+-----------------------------------------------------------------------------+\n"
     ]
    }
   ],
   "source": [
    "!nvidia-smi"
   ]
  },
  {
   "cell_type": "code",
   "execution_count": null,
   "metadata": {},
   "outputs": [],
   "source": []
  }
 ],
 "metadata": {
  "kernelspec": {
   "display_name": "Python 3",
   "language": "python",
   "name": "python3"
  },
  "language_info": {
   "codemirror_mode": {
    "name": "ipython",
    "version": 3
   },
   "file_extension": ".py",
   "mimetype": "text/x-python",
   "name": "python",
   "nbconvert_exporter": "python",
   "pygments_lexer": "ipython3",
   "version": "3.6.9"
  }
 },
 "nbformat": 4,
 "nbformat_minor": 4
}
